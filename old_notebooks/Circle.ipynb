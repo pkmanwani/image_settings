{
 "cells": [
  {
   "cell_type": "code",
   "metadata": {
    "ExecuteTime": {
     "end_time": "2025-03-03T23:33:59.005665Z",
     "start_time": "2025-03-03T23:33:59.000128Z"
    }
   },
   "source": [
    "from utils.circle_detection import ScreenFinder\n",
    "from PySide6.QtWidgets import QFileDialog\n",
    "import h5py\n",
    "import numpy as np"
   ],
   "outputs": [],
   "execution_count": 3
  },
  {
   "cell_type": "code",
   "metadata": {
    "ExecuteTime": {
     "end_time": "2025-03-03T23:35:23.248534Z",
     "start_time": "2025-03-03T23:35:20.496193Z"
    }
   },
   "source": [
    "##Opens a widget to find the YAG edge. Click on the edge of the YAG in at least 3 points to make a circle. You can add points to refine the circle.\n",
    "\n",
    "%matplotlib qt\n",
    "dir = \"../beamlines/awa/2025_02_19-selected/3ScreenMeasurement_LongPulse\"\n",
    "fname, _ = QFileDialog.getOpenFileName(dir=dir)\n",
    "with h5py.File(fname, \"r\") as f:\n",
    "    image=np.array(f['images'])[0]\n",
    "a = ScreenFinder(image)"
   ],
   "outputs": [],
   "execution_count": 7
  },
  {
   "cell_type": "code",
   "execution_count": 3,
   "metadata": {},
   "outputs": [
    {
     "data": {
      "text/plain": [
       "(440.7125999381566, 411.379604593351)"
      ]
     },
     "execution_count": 3,
     "metadata": {},
     "output_type": "execute_result"
    }
   ],
   "source": [
    "a.circle.center"
   ]
  },
  {
   "cell_type": "code",
   "execution_count": 3,
   "metadata": {},
   "outputs": [
    {
     "data": {
      "text/plain": [
       "245.30898068660363"
      ]
     },
     "execution_count": 3,
     "metadata": {},
     "output_type": "execute_result"
    }
   ],
   "source": [
    "a.circle.radius"
   ]
  },
  {
   "cell_type": "code",
   "execution_count": 33,
   "metadata": {},
   "outputs": [
    {
     "data": {
      "text/plain": [
       "0.04954724546949441"
      ]
     },
     "execution_count": 33,
     "metadata": {},
     "output_type": "execute_result"
    }
   ],
   "source": [
    "res = 25/a.circle.radius\n",
    "res"
   ]
  },
  {
   "cell_type": "code",
   "execution_count": null,
   "metadata": {},
   "outputs": [],
   "source": []
  }
 ],
 "metadata": {
  "kernelspec": {
   "display_name": "awa_diagnostic",
   "language": "python",
   "name": "python3"
  },
  "language_info": {
   "codemirror_mode": {
    "name": "ipython",
    "version": 3
   },
   "file_extension": ".py",
   "mimetype": "text/x-python",
   "name": "python",
   "nbconvert_exporter": "python",
   "pygments_lexer": "ipython3",
   "version": "3.12.5"
  }
 },
 "nbformat": 4,
 "nbformat_minor": 2
}
