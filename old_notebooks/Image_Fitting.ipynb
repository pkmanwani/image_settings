{
 "cells": [
  {
   "cell_type": "code",
   "metadata": {
    "ExecuteTime": {
     "end_time": "2025-03-05T18:50:43.097076Z",
     "start_time": "2025-03-05T18:50:37.956033Z"
    }
   },
   "source": [
    "import h5py\n",
    "import numpy as np\n",
    "from math import *\n",
    "import matplotlib.pyplot as plt\n",
    "from matplotlib.widgets import RectangleSelector, Slider\n",
    "from scipy.ndimage import median_filter, rotate, gaussian_filter\n",
    "#import torch\n",
    "from utils.fitting_methods import fit_gaussian_linear_background\n",
    "import os\n",
    "import glob\n",
    "%matplotlib qt"
   ],
   "outputs": [
    {
     "name": "stderr",
     "output_type": "stream",
     "text": [
      "C:\\Users\\Pratik\\AppData\\Local\\Programs\\Python\\Python312\\Lib\\site-packages\\tqdm\\auto.py:21: TqdmWarning: IProgress not found. Please update jupyter and ipywidgets. See https://ipywidgets.readthedocs.io/en/stable/user_install.html\n",
      "  from .autonotebook import tqdm as notebook_tqdm\n"
     ]
    }
   ],
   "execution_count": 1
  },
  {
   "cell_type": "code",
   "metadata": {
    "ExecuteTime": {
     "end_time": "2025-03-05T18:50:51.591176Z",
     "start_time": "2025-03-05T18:50:51.581356Z"
    }
   },
   "source": [
    "def denoise_median_arrayed(data, size):\n",
    "    # Apply median filter with a specified size (window size)\n",
    "    filtered_data = np.apply_along_axis(lambda x: median_filter(x, size=2), axis=1, arr=data)\n",
    "    filtered_data = median_filter(filtered_data, size=size)\n",
    "    return filtered_data\n",
    "\n",
    "def gaussian_2d(X, Y, mean, cov):\n",
    "    pos = np.dstack((X, Y))\n",
    "    diff = pos - mean\n",
    "    inv_cov = np.linalg.inv(cov)\n",
    "    exponent = np.einsum('...i,ij,...j->...', diff, inv_cov, diff)\n",
    "    return np.exp(-0.5 * exponent) / (2 * np.pi * np.sqrt(np.linalg.det(cov)))\n",
    "\n",
    "def smooth_saturated_values(image, sigma=3, threshold=None):\n",
    "    \"\"\"\n",
    "    Smooths out saturated values using Gaussian filtering.\n",
    "\n",
    "    Args:\n",
    "        image (ndarray): 2D intensity array (image).\n",
    "        sigma (float): Standard deviation for Gaussian kernel.\n",
    "        threshold (float, optional): Saturation threshold. Defaults to max value in the image.\n",
    "\n",
    "    Returns:\n",
    "        ndarray: Smoothed image.\n",
    "    \"\"\"\n",
    "    if threshold is None:\n",
    "        threshold = np.max(image)  # Default to the max value in the image\n",
    "\n",
    "    # Identify saturated pixels\n",
    "    mask = image >= threshold-1\n",
    "    # Apply Gaussian filtering to smooth the image\n",
    "    smoothed_image = gaussian_filter(image, sigma=sigma)\n",
    "\n",
    "    # Replace only the saturated pixels with the smoothed values\n",
    "    image[mask] = smoothed_image[mask]\n",
    "\n",
    "    return smoothed_image"
   ],
   "outputs": [],
   "execution_count": 2
  },
  {
   "cell_type": "code",
   "metadata": {
    "ExecuteTime": {
     "end_time": "2025-03-05T18:50:55.516191Z",
     "start_time": "2025-03-05T18:50:55.072728Z"
    }
   },
   "source": [
    "##Opening the h5 and setting the relevant roi\n",
    "\n",
    "def open_h5_file(file_path):\n",
    "    with h5py.File(file_path, \"r\") as f:\n",
    "        images = np.array(f['images'])\n",
    "        res= f['images'].attrs['resolution']\n",
    "    return images, res\n",
    "dir = 'beamlines/awa/2025_02_20/QuadScan2/data'\n",
    "number_of_h5_files = len(glob.glob(dir+ '/*.h5'))\n",
    "print(number_of_h5_files)\n",
    "images_Raw = []\n",
    "for fname in os.listdir(dir):\n",
    "        if fname.endswith(\".h5\"):\n",
    "            file_path = os.path.join(dir, fname)\n",
    "            images_single, res = open_h5_file(file_path)\n",
    "            images_Raw.append(images_single)\n",
    "            #print(np.shape(images_Raw))\n",
    "            n_imgs = len(images_Raw[0])\n",
    "    # res = 0.112\n",
    "# images_Raw = z.reshape(1,1000,1000)\n",
    "# n_imgs = 1\n",
    "# res = 20/1000\n",
    "\n",
    "images_Raw = images_Raw[5]\n",
    "img = images_Raw[0]\n",
    "plt.close('all')\n",
    "fig, ax = plt.subplots()\n",
    "plt.subplots_adjust(left=0.1, bottom=0.25)\n",
    "ax.set_title(f'Image 1/{n_imgs}')\n",
    "imag = ax.imshow(img,  origin='lower')\n",
    "# Create a slider axis and slider widget\n",
    "ax_slider = plt.axes([0.1, 0.1, 0.65, 0.03], facecolor='lightgoldenrodyellow')\n",
    "slider = Slider(ax_slider, 'Image', 1, n_imgs, valinit=1, valstep=1)\n",
    "\n",
    "def update(val):\n",
    "    index = int(slider.val) - 1\n",
    "    imag.set_data(images_Raw[index])\n",
    "    ax.set_title(f'Image {index + 1}/{n_imgs}')\n",
    "    fig.canvas.draw_idle()\n",
    "\n",
    "roi = []\n",
    "def onselect_function(eclick, erelease):\n",
    "    global roi\n",
    "    roi = rect_selector.extents\n",
    "    roi = np.array(roi, dtype=int)\n",
    "    print(\"Extents: \", roi)\n",
    "\n",
    "slider.on_changed(update)\n",
    "\n",
    "rect_selector = RectangleSelector(ax, onselect_function, button=[1])\n",
    "\n",
    "fig.canvas.manager.window.activateWindow() "
   ],
   "outputs": [
    {
     "name": "stdout",
     "output_type": "stream",
     "text": [
      "17\n"
     ]
    }
   ],
   "execution_count": 3
  },
  {
   "cell_type": "code",
   "metadata": {
    "ExecuteTime": {
     "end_time": "2025-03-05T18:51:07.144849Z",
     "start_time": "2025-03-05T18:51:07.062944Z"
    }
   },
   "source": [
    "##Cropping all the images and verifying they look good\n",
    "\n",
    "crop_verify = True\n",
    "\n",
    "CroppedImages = images_Raw[:,roi[2]:roi[3], roi[0]:roi[1]]\n",
    "if crop_verify:\n",
    "    plt.close('all')\n",
    "    fig, ax = plt.subplots(1,2)\n",
    "    plt.subplots_adjust(left=0.1, bottom=0.25)\n",
    "    img0 = ax[0].imshow(images_Raw[0],  origin='lower')\n",
    "    img1 = ax[1].imshow(CroppedImages[0],  origin='lower')\n",
    "    ax[0].set_title(f'Raw Image 1/{n_imgs}')\n",
    "    ax[1].set_title(f'Cropped Image 1/{n_imgs}')\n",
    "    # Create a slider axis and slider widget\n",
    "    ax_slider = plt.axes([0.1, 0.1, 0.65, 0.03], facecolor='lightgoldenrodyellow')\n",
    "    slider = Slider(ax_slider, 'Cropped Image', 1, n_imgs, valinit=1, valstep=1)\n",
    "    def update(val):\n",
    "        index = int(slider.val) - 1\n",
    "        img0.set_data(images_Raw[index])\n",
    "        img1.set_data(CroppedImages[index])\n",
    "        ax[0].set_title(f'Raw Image {index + 1}/{n_imgs}')\n",
    "        ax[1].set_title(f'Cropped Image {index + 1}/{n_imgs}')\n",
    "        fig.canvas.draw_idle()\n",
    "    slider.on_changed(update)\n",
    "    fig.canvas.manager.window.activateWindow() "
   ],
   "outputs": [],
   "execution_count": 4
  },
  {
   "cell_type": "code",
   "metadata": {
    "ExecuteTime": {
     "end_time": "2025-03-05T18:51:20.338367Z",
     "start_time": "2025-03-05T18:51:09.931900Z"
    }
   },
   "source": [
    "##Filter all the images and verifying they look good\n",
    "%matplotlib qt\n",
    "filter_verify = True\n",
    "\n",
    "window_size = 10\n",
    "sigma_size=3\n",
    "\n",
    "FilterImages = denoise_median_arrayed(CroppedImages, window_size)\n",
    "FilterImages = smooth_saturated_values(FilterImages, sigma_size)\n",
    "\n",
    "if filter_verify:\n",
    "    plt.close('all')\n",
    "    fig, ax = plt.subplots(1,2)\n",
    "    plt.subplots_adjust(left=0, bottom=0.25)\n",
    "    img0 = ax[0].imshow(CroppedImages[0],  origin='lower')\n",
    "    img1 = ax[1].imshow(FilterImages[0],  origin='lower')\n",
    "    ax[0].set_title(f'Cropped Image 1/{n_imgs}')\n",
    "    ax[1].set_title(f'Filtered Image 1/{n_imgs}')\n",
    "    \n",
    "    # Create a slider axis and slider widget\n",
    "    ax_slider = plt.axes([0.1, 0.1, 0.65, 0.03], facecolor='lightgoldenrodyellow')\n",
    "    slider = Slider(ax_slider, 'Filtered Image', 1, n_imgs, valinit=1, valstep=1)\n",
    "    def update(val):\n",
    "        index = int(slider.val) - 1\n",
    "        img0.set_data(CroppedImages[index])\n",
    "        img1.set_data(FilterImages[index])\n",
    "        ax[0].set_title(f'Cropped Image {index + 1}/{n_imgs}')\n",
    "        ax[1].set_title(f'Filtered Image {index + 1}/{n_imgs}')\n",
    "        fig.canvas.draw_idle()\n",
    "    slider.on_changed(update)\n",
    "    fig.canvas.manager.window.activateWindow() \n"
   ],
   "outputs": [],
   "execution_count": 5
  },
  {
   "cell_type": "code",
   "metadata": {
    "ExecuteTime": {
     "end_time": "2025-03-05T18:51:32.412331Z",
     "start_time": "2025-03-05T18:51:25.011957Z"
    }
   },
   "source": [
    "##Find good threshold\n",
    "import time\n",
    "plt.close('all')\n",
    "test_img = FilterImages[0]\n",
    "thresholds = np.linspace(0,np.mean(test_img)*2,20)\n",
    "print(thresholds)\n",
    "Cx, Cy, Sx, Sy, Rx, Ry = np.zeros((6, len(thresholds)))\n",
    "i = 0\n",
    "from IPython.display import display\n",
    "def close_event():\n",
    "    plt.close() #timer calls this function after 3 seconds and closes the window\n",
    "\n",
    "\n",
    "def calculate_rms_vectorized(image, Cx, Cy):\n",
    "    \"\"\"\n",
    "    Calculate the RMS size using a vectorized approach.\n",
    "\n",
    "    Args:\n",
    "        image (ndarray): The input 2D image.\n",
    "        Cx (ndarray): The x-coordinate centers for each image.\n",
    "        Cy (ndarray): The y-coordinate centers for each image.\n",
    "\n",
    "    Returns:\n",
    "        Rx (ndarray): The RMS size in the x-direction for each image.\n",
    "        Ry (ndarray): The RMS size in the y-direction for each image.\n",
    "    \"\"\"\n",
    "    # Initialize arrays for the RMS values\n",
    "    Rx = 0\n",
    "    Ry = 0\n",
    "\n",
    "    #print(Cx,Cy)\n",
    "    dx = np.arange(image.shape[1]) - Cx\n",
    "    dy = np.arange(image.shape[0]) - Cy\n",
    "    #print(dx)\n",
    "\n",
    "    # Create 2D grids of differences\n",
    "    dx_grid, dy_grid = np.meshgrid(dx, dy)\n",
    "\n",
    "    # Calculate squared differences, weighted by the image intensity\n",
    "    Xnom = np.sum(image *dx_grid**2)\n",
    "    Ynom = np.sum(image *dy_grid**2)\n",
    "\n",
    "    # Normalize by the sum of image intensities (denom)\n",
    "    denom = np.sum(image)\n",
    "\n",
    "    # Calculate RMS sizes in x and y directions\n",
    "    Rx = np.sqrt(Xnom / denom)\n",
    "    Ry = np.sqrt(Ynom / denom)\n",
    "\n",
    "    return Rx, Ry\n",
    "\n",
    "for bg in thresholds:\n",
    "    temp_im = test_img-bg\n",
    "    temp_im[temp_im<0]=0\n",
    "    x_projection = np.sum(temp_im, axis=0)\n",
    "    y_projection = np.sum(temp_im, axis=1)\n",
    "    [_, Cx[i], Sx[i], _] = fit_gaussian_linear_background(x_projection, visualize=False)\n",
    "    [_, Cy[i], Sy[i], _] = fit_gaussian_linear_background(y_projection, visualize=False)\n",
    "    Xnom, Ynom, XYnom, denom = 0,0,0,0\n",
    "    #Calculate RMS\n",
    "    \"\"\"\n",
    "    for y in range(temp_im.shape[0]):\n",
    "        for x in range(temp_im.shape[1]):\n",
    "            Xnom = Xnom + temp_im[y,x]*(x-Cx[i])*(x-Cx[i])\n",
    "            Ynom = Ynom + temp_im[y,x]*(y-Cy[i])*(y-Cy[i])\n",
    "            denom = denom + temp_im[y,x]\n",
    "    Rx[i] = Xnom/denom\n",
    "    Ry[i] = Ynom/denom\n",
    "    i = i+1\n",
    "    \"\"\"\n",
    "    Rx[i], Ry[i] = calculate_rms_vectorized(temp_im, Cx[i], Cy[i])\n",
    "    #plt.axvline(Cx[i]+Rx[i],linestyle='--')\n",
    "    #plt.axhline(Cy[i]+Ry[i],linestyle='--')\n",
    "    #plt.show()  # Display the plot without blocking\n",
    "    #fig = plt.gcf()  # Grabs the current figure\n",
    "    #plt.imshow(temp_im)\n",
    "    #plt.scatter(Cx[i],Cy[i],color='red')\n",
    "    #plt.axvline(Cx[i]+Sx[i],color='red')\n",
    "    #plt.axvline(Cx[i]-Sx[i],color='red')\n",
    "    #plt.axhline(Cy[i]-Sy[i],color='red')\n",
    "    #plt.axhline(Cy[i]+Sy[i],color='red')\n",
    "    #plt.axvline(Rx[i]+Cx[i])\n",
    "    #plt.axvline(Cx[i]-Rx[i])\n",
    "    #plt.axhline(Cy[i]-Ry[i])\n",
    "    #plt.axhline(Cy[i]+Ry[i])\n",
    "    #display(fig)\n",
    "    #plt.clf()\n",
    "    i = i+1\n",
    "print('done')\n",
    "plt.plot(thresholds, Sx,label='Sx')\n",
    "plt.plot(thresholds, Sy,label='Sy')\n",
    "plt.plot(thresholds, Rx,label='RMSX')\n",
    "plt.plot(thresholds, Ry,label='RMSY')\n",
    "#.plot(thresholds,np.gradient(Rx,thresholds), label='RMSX_prime')\n",
    "plt.legend()"
   ],
   "outputs": [
    {
     "name": "stdout",
     "output_type": "stream",
     "text": [
      "[   0.          371.31823113  742.63646225 1113.95469338 1485.2729245\n",
      " 1856.59115563 2227.90938675 2599.22761788 2970.545849   3341.86408013\n",
      " 3713.18231125 4084.50054238 4455.8187735  4827.13700463 5198.45523575\n",
      " 5569.77346688 5941.091698   6312.40992913 6683.72816025 7055.04639138]\n",
      "done\n"
     ]
    },
    {
     "data": {
      "text/plain": [
       "<matplotlib.legend.Legend at 0x2529508a4e0>"
      ]
     },
     "execution_count": 6,
     "metadata": {},
     "output_type": "execute_result"
    }
   ],
   "execution_count": 6
  },
  {
   "cell_type": "code",
   "metadata": {
    "ExecuteTime": {
     "end_time": "2025-03-05T18:51:40.358311Z",
     "start_time": "2025-03-05T18:51:34.633972Z"
    }
   },
   "source": [
    "import matplotlib.patches as patches\n",
    "plt.close('all')\n",
    "%matplotlib qt\n",
    "##Get rms values for x, y, and xy and sigma x,y, xy\n",
    "bg = 3000\n",
    "test_img = FilterImages[0]\n",
    "temp_im = test_img-bg\n",
    "temp_im[temp_im<0]=0\n",
    "x_projection = np.sum(temp_im, axis=0)\n",
    "y_projection = np.sum(temp_im, axis=1)\n",
    "[_, Cx, Sx, _] = fit_gaussian_linear_background(x_projection, visualize=False)\n",
    "[_, Cy, Sy, _] = fit_gaussian_linear_background(y_projection, visualize=False)\n",
    "\n",
    "fig, ax = plt.subplots(1,2)\n",
    "ax[0].imshow(temp_im, origin='lower')\n",
    "scalex, scaley = temp_im.shape; scalex, scaley = scalex/5, scaley/5 \n",
    "ax[0].plot(x_projection/max(x_projection)*scalex, 'w', linestyle='--')\n",
    "ax[0].plot(y_projection/max(y_projection)*scaley,np.arange(len(y_projection)), 'w', linestyle='--')\n",
    "ax[0].plot([Cx-Sx/2,Cx+Sx/2],[Cy,Cy], linestyle='-', color='r', markersize=10)\n",
    "ax[0].plot([Cx,Cx],[Cy-Sy/2,Cy+Sy/2], linestyle='-', color='r', markersize=10)\n",
    "envelope = patches.Ellipse((Cx,Cy), 4*Sx, 4*Sy, angle=0, edgecolor = 'black', facecolor='None')\n",
    "ax[0].add_patch(envelope)\n",
    "plt.show()\n",
    "\n",
    "dim1,dim2=np.shape(temp_im)\n",
    "img45_cropped=rotate(temp_im,-45,reshape=True,order=1)\n",
    "x_projection45 = np.sum(img45_cropped, axis=0)\n",
    "y_projection45 = np.sum(img45_cropped, axis=1)\n",
    "[_, Cx45, Sx45, _] = fit_gaussian_linear_background(x_projection45, visualize=False)\n",
    "[_, Cy45, Sy45, _] = fit_gaussian_linear_background(y_projection45, visualize=False)\n",
    "Sxy=(Sx45**2-Sy45**2)/2\n",
    "#ax[1].imshow(img45_cropped, origin='lower')\n",
    "#scalex, scaley = img45_cropped.shape; scalex, scaley = scalex/5, scaley/5\n",
    "#ax[1].plot(x_projection45/max(x_projection45)*scalex, 'w', linestyle='--')\n",
    "#ax[1].plot(y_projection45/max(y_projection45)*scaley,np.arange(len(y_projection45)), 'w', linestyle='--')\n",
    "#ax[1].plot([Cx45-Sx45/2,Cx45+Sx45/2],[Cy45,Cy45], linestyle='-', color='r', markersize=10)\n",
    "#ax[1].plot([Cx45,Cx45],[Cy45-Sy45/2,Cy45+Sy45/2], linestyle='-', color='r', markersize=10)\n",
    "#ax[1].set_visible(False)\n",
    "\n",
    "\n",
    "print(f'Cx = {Cx} | Cy = {Cy} | Sxx = {Sx*res*Sx*res} mm^2 | Syy = {Sy*res*Sy*res} mm^2 | Sxy = {Sxy*res*res} mm^2')\n",
    "\n",
    "Xnom, Ynom, denom = 0,0,0\n",
    "\n",
    "#Caculate Centroid\n",
    "for i in range(temp_im.shape[0]):\n",
    "    for j in range(temp_im.shape[1]):\n",
    "        Xnom = Xnom + temp_im[i,j]*(j)\n",
    "        Ynom = Ynom + temp_im[i,j]*(i)\n",
    "        denom = denom + temp_im[i,j]\n",
    "\n",
    "Xcen = Xnom/denom\n",
    "Ycen = Ynom/denom\n",
    "\n",
    "Xnom, Ynom, XYnom, denom = 0,0,0,0\n",
    "#Calculate RMS\n",
    "for i in range(temp_im.shape[0]):\n",
    "    for j in range(temp_im.shape[1]):\n",
    "        Xnom = Xnom + temp_im[i,j]*(j-Xcen)*(j-Xcen)\n",
    "        Ynom = Ynom + temp_im[i,j]*(i-Ycen)*(i-Ycen)\n",
    "        XYnom = XYnom + temp_im[i,j]*(j-Xcen)*(i-Ycen)\n",
    "        denom = denom + temp_im[i,j]\n",
    "\n",
    "RMSx = Xnom/denom\n",
    "RMSy = Ynom/denom\n",
    "RMSxy = XYnom/denom\n",
    "print(f'Xcen = {Xcen} | Ycen = {Ycen} | RMSx = {RMSx} | RMSy = {RMSy} | RMSxy = {RMSxy}')\n",
    "\n",
    "# Parameters for the Gaussian distribution\n",
    "mean = np.array([Cx, Cy])  # Centroid (mean) of the distribution\n",
    "covariance = np.array([[Sx*Sx, -Sxy], [-Sxy, Sy*Sy]])  # Covariance matrix\n",
    "RMSmean = np.array([Xcen, Ycen])  # Centroid (mean) of the distribution\n",
    "RMScovariance = np.array([[RMSx, RMSxy], [RMSxy, RMSy]])  # Covariance matrix\n",
    "\n",
    "# Create a grid of points\n",
    "x = np.linspace(ax[0].get_xlim()[0], ax[0].get_xlim()[1], 1000)\n",
    "y = np.linspace(ax[0].get_ylim()[0], ax[0].get_ylim()[1], 1000)\n",
    "X, Y = np.meshgrid(x, y)\n",
    "\n",
    "# Compute the Gaussian values\n",
    "Z = gaussian_2d(X, Y, mean, covariance)\n",
    "sigma1,sigma2,sigma3, sigma4,sigma6= gaussian_2d(Cx+Sx/2, Cy, mean, covariance),gaussian_2d(Cx+Sx, Cy, mean, covariance),gaussian_2d(Cx+3*Sx/2, Cy, mean, covariance), gaussian_2d(Cx+2*Sx, Cy, mean, covariance),gaussian_2d(Cx+3*Sx, Cy, mean, covariance)\n",
    "sigmac = ax[0].contour(X,Y,Z, levels=sigma4 ,colors='black', linestyles='dashed')\n",
    "#plt.clabel(sigmac, inline=True, fmt=f'$4\\sigma$',color='black')\n",
    "Z = gaussian_2d(X, Y, RMSmean, RMScovariance)\n",
    "simgma4 = gaussian_2d(Xcen+2*sqrt(RMSx), Ycen, RMSmean, RMScovariance)\n",
    "rmsc = ax[0].contour(X,Y,Z, levels=sigma4,colors='black', linestyles='dashed')\n",
    "plt.clabel(rmsc, inline=True, fmt=f'4RMS')\n",
    "\n",
    "matrixstr = f'Beam Matrix $\\Sigma$ \\n\\n$\\sigma_{{xx}} , \\sigma_{{xy}}$ \\n $\\sigma_{{xy}} , \\sigma_{{yy}}$ \\n \\nUnits Below \\nare in [$mm^2$] \\n\\nFrom Gaussian Fit \\n\\n {Sx*Sx*res*res:.2f} , {-Sxy*res*res:.2f} \\n {-Sxy*res*res:.2f} , {Sy*Sy*res*res:.2f}\\n\\nRMS Calcuation \\n\\n {RMSx*res*res:.2f} , {RMSxy*res*res:.2f} \\n {RMSxy*res*res:.2f} , {RMSy*res*res:.2f}'\n",
    "\n",
    "props = dict(boxstyle='round', facecolor='grey', alpha=0.15)  # bbox features\n",
    "ax[0].text(1.03, 0.85, matrixstr, transform=ax[0].transAxes, fontsize=12, verticalalignment='top', bbox=props)\n",
    "#fig.tight_layout()\n",
    "plt.show()"
   ],
   "outputs": [
    {
     "name": "stderr",
     "output_type": "stream",
     "text": [
      "<>:90: SyntaxWarning: invalid escape sequence '\\S'\n",
      "<>:90: SyntaxWarning: invalid escape sequence '\\s'\n",
      "<>:90: SyntaxWarning: invalid escape sequence '\\s'\n",
      "<>:90: SyntaxWarning: invalid escape sequence '\\s'\n",
      "<>:90: SyntaxWarning: invalid escape sequence '\\S'\n",
      "<>:90: SyntaxWarning: invalid escape sequence '\\s'\n",
      "<>:90: SyntaxWarning: invalid escape sequence '\\s'\n",
      "<>:90: SyntaxWarning: invalid escape sequence '\\s'\n",
      "C:\\Users\\Pratik\\AppData\\Local\\Temp\\ipykernel_17492\\86784263.py:90: SyntaxWarning: invalid escape sequence '\\S'\n",
      "  matrixstr = f'Beam Matrix $\\Sigma$ \\n\\n$\\sigma_{{xx}} , \\sigma_{{xy}}$ \\n $\\sigma_{{xy}} , \\sigma_{{yy}}$ \\n \\nUnits Below \\nare in [$mm^2$] \\n\\nFrom Gaussian Fit \\n\\n {Sx*Sx*res*res:.2f} , {-Sxy*res*res:.2f} \\n {-Sxy*res*res:.2f} , {Sy*Sy*res*res:.2f}\\n\\nRMS Calcuation \\n\\n {RMSx*res*res:.2f} , {RMSxy*res*res:.2f} \\n {RMSxy*res*res:.2f} , {RMSy*res*res:.2f}'\n",
      "C:\\Users\\Pratik\\AppData\\Local\\Temp\\ipykernel_17492\\86784263.py:90: SyntaxWarning: invalid escape sequence '\\s'\n",
      "  matrixstr = f'Beam Matrix $\\Sigma$ \\n\\n$\\sigma_{{xx}} , \\sigma_{{xy}}$ \\n $\\sigma_{{xy}} , \\sigma_{{yy}}$ \\n \\nUnits Below \\nare in [$mm^2$] \\n\\nFrom Gaussian Fit \\n\\n {Sx*Sx*res*res:.2f} , {-Sxy*res*res:.2f} \\n {-Sxy*res*res:.2f} , {Sy*Sy*res*res:.2f}\\n\\nRMS Calcuation \\n\\n {RMSx*res*res:.2f} , {RMSxy*res*res:.2f} \\n {RMSxy*res*res:.2f} , {RMSy*res*res:.2f}'\n",
      "C:\\Users\\Pratik\\AppData\\Local\\Temp\\ipykernel_17492\\86784263.py:90: SyntaxWarning: invalid escape sequence '\\s'\n",
      "  matrixstr = f'Beam Matrix $\\Sigma$ \\n\\n$\\sigma_{{xx}} , \\sigma_{{xy}}$ \\n $\\sigma_{{xy}} , \\sigma_{{yy}}$ \\n \\nUnits Below \\nare in [$mm^2$] \\n\\nFrom Gaussian Fit \\n\\n {Sx*Sx*res*res:.2f} , {-Sxy*res*res:.2f} \\n {-Sxy*res*res:.2f} , {Sy*Sy*res*res:.2f}\\n\\nRMS Calcuation \\n\\n {RMSx*res*res:.2f} , {RMSxy*res*res:.2f} \\n {RMSxy*res*res:.2f} , {RMSy*res*res:.2f}'\n",
      "C:\\Users\\Pratik\\AppData\\Local\\Temp\\ipykernel_17492\\86784263.py:90: SyntaxWarning: invalid escape sequence '\\s'\n",
      "  matrixstr = f'Beam Matrix $\\Sigma$ \\n\\n$\\sigma_{{xx}} , \\sigma_{{xy}}$ \\n $\\sigma_{{xy}} , \\sigma_{{yy}}$ \\n \\nUnits Below \\nare in [$mm^2$] \\n\\nFrom Gaussian Fit \\n\\n {Sx*Sx*res*res:.2f} , {-Sxy*res*res:.2f} \\n {-Sxy*res*res:.2f} , {Sy*Sy*res*res:.2f}\\n\\nRMS Calcuation \\n\\n {RMSx*res*res:.2f} , {RMSxy*res*res:.2f} \\n {RMSxy*res*res:.2f} , {RMSy*res*res:.2f}'\n"
     ]
    },
    {
     "name": "stdout",
     "output_type": "stream",
     "text": [
      "Cx = 420.20927600862285 | Cy = 101.39871149046084 | Sxx = 0.3708458333746053 mm^2 | Syy = 0.6594900520463598 mm^2 | Sxy = 7.032911421784948 mm^2\n"
     ]
    },
    {
     "name": "stderr",
     "output_type": "stream",
     "text": [
      "C:\\Users\\Pratik\\AppData\\Local\\Temp\\ipykernel_17492\\86784263.py:50: RuntimeWarning: overflow encountered in scalar add\n",
      "  denom = denom + temp_im[i,j]\n",
      "C:\\Users\\Pratik\\AppData\\Local\\Temp\\ipykernel_17492\\86784263.py:48: RuntimeWarning: overflow encountered in scalar multiply\n",
      "  Xnom = Xnom + temp_im[i,j]*(j)\n",
      "C:\\Users\\Pratik\\AppData\\Local\\Temp\\ipykernel_17492\\86784263.py:48: RuntimeWarning: overflow encountered in scalar add\n",
      "  Xnom = Xnom + temp_im[i,j]*(j)\n",
      "C:\\Users\\Pratik\\AppData\\Local\\Temp\\ipykernel_17492\\86784263.py:49: RuntimeWarning: overflow encountered in scalar add\n",
      "  Ynom = Ynom + temp_im[i,j]*(i)\n",
      "C:\\Users\\Pratik\\AppData\\Local\\Temp\\ipykernel_17492\\86784263.py:49: RuntimeWarning: overflow encountered in scalar multiply\n",
      "  Ynom = Ynom + temp_im[i,j]*(i)\n",
      "C:\\Users\\Pratik\\AppData\\Local\\Temp\\ipykernel_17492\\86784263.py:62: RuntimeWarning: overflow encountered in scalar add\n",
      "  denom = denom + temp_im[i,j]\n"
     ]
    },
    {
     "name": "stdout",
     "output_type": "stream",
     "text": [
      "Xcen = 0.6063381910710155 | Ycen = 0.09171100316138484 | RMSx = 26050898120.80012 | RMSy = 43015880620.75608 | RMSxy = 24365155194.189884\n"
     ]
    },
    {
     "name": "stderr",
     "output_type": "stream",
     "text": [
      "C:\\Users\\Pratik\\AppData\\Local\\Temp\\ipykernel_17492\\31408549.py:12: RuntimeWarning: invalid value encountered in sqrt\n",
      "  return np.exp(-0.5 * exponent) / (2 * np.pi * np.sqrt(np.linalg.det(cov)))\n"
     ]
    }
   ],
   "execution_count": 7
  },
  {
   "cell_type": "code",
   "metadata": {
    "ExecuteTime": {
     "end_time": "2025-02-24T01:03:47.877023Z",
     "start_time": "2025-02-24T01:03:47.457601Z"
    }
   },
   "source": [
    "import numpy as np\n",
    "import matplotlib.pyplot as plt\n",
    "\n",
    "# Parameters for the Gaussian distribution\n",
    "mean = (0, 0)  # Mean of the distribution\n",
    "covariance = np.array([[1, -2],\n",
    "                       [-2, 5]])  # Covariance matrix\n",
    "\n",
    "# Generate a grid of points\n",
    "x, y = np.meshgrid(np.linspace(-10, 10, 1000), np.linspace(-10, 10, 1000))\n",
    "\n",
    "# Combine the x and y coordinates into a single array\n",
    "pos = np.dstack((x, y))\n",
    "\n",
    "# Define the 2D Gaussian function\n",
    "def gaussian_2d(x, y, mean, cov):\n",
    "    inv_cov = np.linalg.inv(cov)\n",
    "    diff = np.dstack((x - mean[0], y - mean[1]))\n",
    "    exponent = -0.5 * np.sum(np.dot(diff, inv_cov) * diff, axis=2)\n",
    "    return np.exp(exponent) / (2 * np.pi * np.sqrt(np.linalg.det(cov)))\n",
    "\n",
    "# Calculate the Gaussian values\n",
    "z = gaussian_2d(x, y, mean, covariance)\n",
    "# Plotting\n",
    "plt.contourf(x, y, z, levels=50, cmap='viridis')\n",
    "plt.colorbar()\n",
    "plt.title('2D Gaussian Distribution')\n",
    "plt.xlabel('X-axis')\n",
    "plt.ylabel('Y-axis')\n",
    "plt.show()\n"
   ],
   "outputs": [],
   "execution_count": 9
  },
  {
   "cell_type": "code",
   "metadata": {
    "ExecuteTime": {
     "end_time": "2025-02-20T06:33:32.653626Z",
     "start_time": "2025-02-20T06:33:32.364494Z"
    }
   },
   "source": [
    "import numpy as np\n",
    "import matplotlib.pyplot as plt\n",
    "\n",
    "%matplotlib inline\n",
    "\n",
    "# Define the covariance matrix\n",
    "cov_matrix = np.array([[1, -2], [-2, 5]])\n",
    "\n",
    "# Compute the eigenvalues and eigenvectors\n",
    "eigenvalues, eigenvectors = np.linalg.eigh(cov_matrix)\n",
    "radii = np.sqrt(eigenvalues)  # Radii of the ellipse\n",
    "print(radii)\n",
    "x = np.linspace(-10, 10, 1000)\n",
    "y = np.linspace(-10, 10, 1000)\n",
    "\n",
    "X, Y = np.meshgrid(x,y)\n",
    "\n",
    "points = np.vstack([X.ravel(), Y.ravel()])\n",
    "\n",
    "radii_squared = np.square(radii)\n",
    "radii_squared = radii_squared[:, np.newaxis]\n",
    "transformed_points = np.dot(np.linalg.inv(eigenvectors), points)\n",
    "transformed_points_squared = np.square(transformed_points)\n",
    "ellipse_condition = np.sum(transformed_points_squared/radii_squared, axis=0)\n",
    "\n",
    "z =np.where(ellipse_condition < 1, 1, 0)\n",
    "\n",
    "Z = z.reshape(X.shape)\n",
    "\n",
    "fig, ax = plt.subplots(subplot_kw={\"projection\": \"3d\"})\n",
    "#contour = plt.contour(X,Y,Z, levels = [0,1], cmap = 'viridis')\n",
    "#cbar = plt.colorbar(contour)\n",
    "#cbar.set_label('Z')\n",
    "ax.plot_surface(X,Y,Z, cmap = 'viridis')\n"
   ],
   "outputs": [
    {
     "name": "stdout",
     "output_type": "stream",
     "text": [
      "[0.41421356 2.41421356]\n"
     ]
    },
    {
     "data": {
      "text/plain": [
       "<mpl_toolkits.mplot3d.art3d.Poly3DCollection at 0x362b3a9a0>"
      ]
     },
     "execution_count": 106,
     "metadata": {},
     "output_type": "execute_result"
    },
    {
     "data": {
      "text/plain": [
       "<Figure size 640x480 with 1 Axes>"
      ],
      "image/png": "[encoded data removed]"
     },
     "metadata": {},
     "output_type": "display_data"
    }
   ],
   "execution_count": 106
  },
  {
   "cell_type": "code",
   "execution_count": null,
   "metadata": {},
   "outputs": [],
   "source": "\n"
  }
 ],
 "metadata": {
  "kernelspec": {
   "display_name": "awa_diagnostic",
   "language": "python",
   "name": "python3"
  },
  "language_info": {
   "codemirror_mode": {
    "name": "ipython",
    "version": 3
   },
   "file_extension": ".py",
   "mimetype": "text/x-python",
   "name": "python",
   "nbconvert_exporter": "python",
   "pygments_lexer": "ipython3",
   "version": "3.12.5"
  }
 },
 "nbformat": 4,
 "nbformat_minor": 2
}
